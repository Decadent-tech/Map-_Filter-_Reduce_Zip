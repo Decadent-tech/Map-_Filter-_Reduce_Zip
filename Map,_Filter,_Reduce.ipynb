{
  "nbformat": 4,
  "nbformat_minor": 0,
  "metadata": {
    "colab": {
      "provenance": []
    },
    "kernelspec": {
      "name": "python3",
      "display_name": "Python 3"
    },
    "language_info": {
      "name": "python"
    }
  },
  "cells": [
    {
      "cell_type": "markdown",
      "metadata": {
        "id": "486e321b"
      },
      "source": [
        "## Map\n",
        "\n",
        "The `map()` function can take multiple iterables and return a map object that can be converted to other iterables.\n",
        "\n",
        "```python\n",
        "map(function_to_perform, *iterables)\n",
        "```"
      ]
    },
    {
      "cell_type": "code",
      "source": [
        " '''\n",
        " if height < 150:\n",
        "        return \"S\"\n",
        "    elif height >= 150 and height < 180:\n",
        "        return \"M\"\n",
        "    elif height > 180:\n",
        "        return \"L\"\n",
        "'''"
      ],
      "metadata": {
        "id": "1CQPHiiUikbf"
      },
      "execution_count": null,
      "outputs": []
    },
    {
      "cell_type": "code",
      "execution_count": 15,
      "metadata": {
        "id": "b8e39004"
      },
      "outputs": [],
      "source": [
        "heights = [144, 167, 189, 170, 190, 150, 165, 178, 200, 130]"
      ]
    },
    {
      "cell_type": "code",
      "execution_count": 16,
      "metadata": {
        "id": "74Iqx3oYfMHC"
      },
      "outputs": [],
      "source": [
        "sizes=list(map(lambda x:\"S\" if x<150 else \"M\" if x>=150 and x<180 else \"L\", heights))"
      ]
    },
    {
      "cell_type": "code",
      "source": [
        "sizes"
      ],
      "metadata": {
        "colab": {
          "base_uri": "https://localhost:8080/"
        },
        "id": "lPJKpcOyi5Ur",
        "outputId": "f2c01bd9-1e0e-4638-b571-0cad529987f8"
      },
      "execution_count": 6,
      "outputs": [
        {
          "output_type": "execute_result",
          "data": {
            "text/plain": [
              "['S', 'M', 'L', 'M', 'L', 'M', 'M', 'M', 'L', 'S']"
            ]
          },
          "metadata": {},
          "execution_count": 6
        }
      ]
    },
    {
      "cell_type": "code",
      "source": [
        "A = [1,0,0,1,1,1,0,0,0,1,0,1]\n",
        "B = [0,0,1,1,0,1,1,1,0,0,0,0]"
      ],
      "metadata": {
        "id": "WMmNnN1UjJ33"
      },
      "execution_count": 7,
      "outputs": []
    },
    {
      "cell_type": "code",
      "source": [
        "C = list(map(lambda x, y: x==y, A, B))\n",
        "C"
      ],
      "metadata": {
        "colab": {
          "base_uri": "https://localhost:8080/"
        },
        "id": "S4ZOogY_jPOf",
        "outputId": "4c390023-ebff-4c81-fb6b-110cfec88aec"
      },
      "execution_count": 8,
      "outputs": [
        {
          "output_type": "execute_result",
          "data": {
            "text/plain": [
              "[False, True, False, True, False, True, False, False, True, False, True, False]"
            ]
          },
          "metadata": {},
          "execution_count": 8
        }
      ]
    },
    {
      "cell_type": "code",
      "source": [
        "#List of the squares of each number\n",
        "map_result=list(map(lambda x:x**2,integers))"
      ],
      "metadata": {
        "id": "ighESHmssHew"
      },
      "execution_count": null,
      "outputs": []
    },
    {
      "cell_type": "markdown",
      "metadata": {
        "id": "83162e46"
      },
      "source": [
        "## Filter\n",
        "\n",
        "<img src=\"https://d2beiqkhq929f0.cloudfront.net/public_assets/assets/000/016/064/original/Screenshot_2022-10-11_at_11.14.51_AM.png?1665467068\">"
      ]
    },
    {
      "cell_type": "code",
      "source": [
        "a=[0,1, 2, 3, 4, 5, 6, 7, 8, 9, 10]\n",
        "f = list(filter(lambda x: x%2 == 0, a))\n",
        "f"
      ],
      "metadata": {
        "colab": {
          "base_uri": "https://localhost:8080/"
        },
        "id": "HdoLh0p1kbh_",
        "outputId": "a96862db-b978-492a-8344-284e4d815c93"
      },
      "execution_count": 18,
      "outputs": [
        {
          "output_type": "execute_result",
          "data": {
            "text/plain": [
              "[0, 2, 4, 6, 8, 10]"
            ]
          },
          "metadata": {},
          "execution_count": 18
        }
      ]
    },
    {
      "cell_type": "code",
      "source": [
        "student_data=[('S ROY', 1), ('B BOSE', 3), ('N KAR', 2), ('C DUTTA', 1), ('G GHOSH', 1)]\n",
        "Grade_Second_Hight = list(filter(lambda x:x[1]==2,student_data))\n",
        "Grade_Second_Hight"
      ],
      "metadata": {
        "colab": {
          "base_uri": "https://localhost:8080/"
        },
        "id": "km9u1gJglvSl",
        "outputId": "7cec9608-ed43-4693-88ca-64e322aa9a1f"
      },
      "execution_count": 20,
      "outputs": [
        {
          "output_type": "execute_result",
          "data": {
            "text/plain": [
              "[('N KAR', 2)]"
            ]
          },
          "metadata": {},
          "execution_count": 20
        }
      ]
    },
    {
      "cell_type": "code",
      "source": [
        "my_list=[\"php\", \"w3r\", \"python\", \"aaa\", \"java\"]"
      ],
      "metadata": {
        "id": "UEFcEJPMq-Y9"
      },
      "execution_count": 41,
      "outputs": []
    },
    {
      "cell_type": "code",
      "source": [
        "palindromes = list(filter(lambda word: word == word[::-1], my_list))"
      ],
      "metadata": {
        "id": "CyQL2Sn8q0DZ"
      },
      "execution_count": 42,
      "outputs": []
    },
    {
      "cell_type": "code",
      "source": [
        "palindromes"
      ],
      "metadata": {
        "colab": {
          "base_uri": "https://localhost:8080/"
        },
        "id": "QTd8vUp_q-8p",
        "outputId": "11eebeb8-02ef-4430-ddda-917afe9bc4da"
      },
      "execution_count": 43,
      "outputs": [
        {
          "output_type": "execute_result",
          "data": {
            "text/plain": [
              "['php', 'aaa']"
            ]
          },
          "metadata": {},
          "execution_count": 43
        }
      ]
    },
    {
      "cell_type": "code",
      "source": [
        "\n",
        "#List with only those names that have less than or equal to seven letters.\n",
        "filter_result=list(filter(lambda x:len(x)<=7,names))\n",
        "#The product of elements of list numbers.\n",
        "reduce_result=reduce(lambda x,y:x*y,numbers)"
      ],
      "metadata": {
        "id": "7G0SK2Pvr4-t"
      },
      "execution_count": null,
      "outputs": []
    },
    {
      "cell_type": "code",
      "source": [
        "ids = [\"SAM@gmail.com\", \"Ram@gmail.com\", \"sam@gmail.com\", \"samJohnson@iit.com\", \"SAM@harvard.com\"]\n",
        "name = \"sam\"\n",
        "result = list(filter(lambda x :name in str(x).lower() , ids))\n",
        "print(result)"
      ],
      "metadata": {
        "colab": {
          "base_uri": "https://localhost:8080/"
        },
        "id": "Ma3tGU7ltuJY",
        "outputId": "05cc4dc8-f285-48c7-bc22-612432fa140f"
      },
      "execution_count": 51,
      "outputs": [
        {
          "output_type": "stream",
          "name": "stdout",
          "text": [
            "['SAM@gmail.com', 'sam@gmail.com', 'samJohnson@iit.com', 'SAM@harvard.com']\n"
          ]
        }
      ]
    },
    {
      "cell_type": "markdown",
      "metadata": {
        "id": "9c32123f"
      },
      "source": [
        "## Zip"
      ]
    },
    {
      "cell_type": "code",
      "source": [
        "column_names = ['name', 'salary', 'job']\n",
        "db_rows = [('Alice', 180000, 'data scientist'),\n",
        "           ('Bob', 99000, 'data engineer'),\n",
        "           ('Frank', 87000, 'data analyst')]\n",
        "\n",
        "db = [dict(zip(column_names,row)) for row in db_rows]\n",
        "db"
      ],
      "metadata": {
        "colab": {
          "base_uri": "https://localhost:8080/"
        },
        "id": "bFsJ9ABuqQji",
        "outputId": "ee597def-dcd6-4848-f9ad-f1f56ef6b27d"
      },
      "execution_count": 40,
      "outputs": [
        {
          "output_type": "execute_result",
          "data": {
            "text/plain": [
              "[{'name': 'Alice', 'salary': 180000, 'job': 'data scientist'},\n",
              " {'name': 'Bob', 'salary': 99000, 'job': 'data engineer'},\n",
              " {'name': 'Frank', 'salary': 87000, 'job': 'data analyst'}]"
            ]
          },
          "metadata": {},
          "execution_count": 40
        }
      ]
    },
    {
      "cell_type": "code",
      "source": [
        "Students =['S ROY', 'B BOSE', 'N KAR', 'C DUTTA', 'G GHOSH']\n",
        "Grades = [1, 3 ,2, 1 ,1]"
      ],
      "metadata": {
        "id": "B9UgswU9jt2F"
      },
      "execution_count": 9,
      "outputs": []
    },
    {
      "cell_type": "code",
      "source": [
        "student_data=list(zip(Students,Grades))"
      ],
      "metadata": {
        "id": "1HrvYA49jwXp"
      },
      "execution_count": 11,
      "outputs": []
    },
    {
      "cell_type": "code",
      "source": [
        "student_data"
      ],
      "metadata": {
        "colab": {
          "base_uri": "https://localhost:8080/"
        },
        "id": "e3ivOk8-j52S",
        "outputId": "8aaab2d5-2243-4bee-b594-93355dc82d47"
      },
      "execution_count": 13,
      "outputs": [
        {
          "output_type": "execute_result",
          "data": {
            "text/plain": [
              "[('S ROY', 1), ('B BOSE', 3), ('N KAR', 2), ('C DUTTA', 1), ('G GHOSH', 1)]"
            ]
          },
          "metadata": {},
          "execution_count": 13
        }
      ]
    },
    {
      "cell_type": "code",
      "source": [
        "student_dat_dict=dict(zip(Students,Grades))"
      ],
      "metadata": {
        "id": "bFEpYm0EjxGL"
      },
      "execution_count": 12,
      "outputs": []
    },
    {
      "cell_type": "code",
      "source": [
        "student_dat_dict"
      ],
      "metadata": {
        "colab": {
          "base_uri": "https://localhost:8080/"
        },
        "id": "w2KnZ1Chj8Hn",
        "outputId": "5ec9c72c-1cb8-4a97-c787-ad87bacc2e65"
      },
      "execution_count": 14,
      "outputs": [
        {
          "output_type": "execute_result",
          "data": {
            "text/plain": [
              "{'S ROY': 1, 'B BOSE': 3, 'N KAR': 2, 'C DUTTA': 1, 'G GHOSH': 1}"
            ]
          },
          "metadata": {},
          "execution_count": 14
        }
      ]
    },
    {
      "cell_type": "code",
      "source": [
        "a = [1,2,3]\n",
        "b = [\"a\", \"b\", \"c\", \"d\", \"e\"]\n",
        "c = [\"x\", \"y\", \"z\", \"m\", \"n\"]"
      ],
      "metadata": {
        "id": "Fu8K1Yc_mwRD"
      },
      "execution_count": 22,
      "outputs": []
    },
    {
      "cell_type": "code",
      "source": [
        "result = list(zip(c, b,a))\n",
        "result"
      ],
      "metadata": {
        "colab": {
          "base_uri": "https://localhost:8080/"
        },
        "id": "8rpiwHYgmzEa",
        "outputId": "f7c565bd-ca3d-43a6-b7c3-c64a00847faf"
      },
      "execution_count": 23,
      "outputs": [
        {
          "output_type": "execute_result",
          "data": {
            "text/plain": [
              "[('x', 'a', 1), ('y', 'b', 2), ('z', 'c', 3)]"
            ]
          },
          "metadata": {},
          "execution_count": 23
        }
      ]
    },
    {
      "cell_type": "code",
      "source": [
        "Day={\"1st\", \"2nd\", \"3rd\", \"4th\", \"5th\", \"6th\", \"7th\", \"8th\", \"9th\" , \"29th\", \"30th\", \"31th\"}\n",
        "Month={\"Jan\", \"Feb\", \"Mar\", \"Apr\", \"May\", \"Jun\", \"Jul\", \"Aug\", \"Sep\", \"Oct\", \"Nov\", \"Dec\"}\n",
        "map_date=dict(zip(Day,Month))"
      ],
      "metadata": {
        "id": "O3tGhQcIpGif"
      },
      "execution_count": 36,
      "outputs": []
    },
    {
      "cell_type": "code",
      "source": [
        "map_date"
      ],
      "metadata": {
        "colab": {
          "base_uri": "https://localhost:8080/"
        },
        "id": "GVqP-6nXpHna",
        "outputId": "a06371b9-3a27-4fd9-df77-a65ddf6adf8e"
      },
      "execution_count": 37,
      "outputs": [
        {
          "output_type": "execute_result",
          "data": {
            "text/plain": [
              "{'4th': 'Dec',\n",
              " '7th': 'Jun',\n",
              " '3rd': 'Nov',\n",
              " '8th': 'Feb',\n",
              " '5th': 'Jan',\n",
              " '30th': 'Oct',\n",
              " '6th': 'Jul',\n",
              " '31th': 'May',\n",
              " '29th': 'Sep',\n",
              " '9th': 'Mar',\n",
              " '1st': 'Aug',\n",
              " '2nd': 'Apr'}"
            ]
          },
          "metadata": {},
          "execution_count": 37
        }
      ]
    },
    {
      "cell_type": "markdown",
      "metadata": {
        "id": "0590fa0f"
      },
      "source": [
        "## Reduce\n",
        "\n",
        "<img src=\"https://d2beiqkhq929f0.cloudfront.net/public_assets/assets/000/016/065/original/Screenshot_2022-10-11_at_11.16.30_AM.png?1665467168\">\n",
        "\n",
        "<img src=\"https://d2beiqkhq929f0.cloudfront.net/public_assets/assets/000/016/066/original/Screenshot_2022-10-11_at_11.16.52_AM.png?1665467200\">"
      ]
    },
    {
      "cell_type": "code",
      "execution_count": 24,
      "metadata": {
        "id": "dd011eeb"
      },
      "outputs": [],
      "source": [
        "# This lines brings the reduce function into current code -\n",
        "\n",
        "from functools import reduce"
      ]
    },
    {
      "cell_type": "code",
      "source": [
        "a=[1, 2, 3, 4, 5, 6, 7, 8, 9, 10]\n",
        "b=[10, 9, 8, 7, 6, 5, 4, 3, 2, 1]\n",
        "print(reduce(lambda x,y: x*y, a) == reduce(lambda x,y: x*y, b))"
      ],
      "metadata": {
        "colab": {
          "base_uri": "https://localhost:8080/"
        },
        "id": "tAr1YHWLkLMW",
        "outputId": "6d262b62-6945-48a6-f5e7-5bbf56e813f5"
      },
      "execution_count": 25,
      "outputs": [
        {
          "output_type": "stream",
          "name": "stdout",
          "text": [
            "True\n"
          ]
        }
      ]
    },
    {
      "cell_type": "markdown",
      "source": [
        "#### Gives the element with minimum value from a given list of elements."
      ],
      "metadata": {
        "id": "B-hrCFTGepTU"
      }
    },
    {
      "cell_type": "code",
      "source": [
        "max_element = reduce(lambda x, y: y if x>y else x, a)\n",
        "max_element"
      ],
      "metadata": {
        "colab": {
          "base_uri": "https://localhost:8080/"
        },
        "id": "qdAGF-FknlsM",
        "outputId": "7150707e-eb09-4940-cb59-e990a6b03b51"
      },
      "execution_count": 26,
      "outputs": [
        {
          "output_type": "execute_result",
          "data": {
            "text/plain": [
              "1"
            ]
          },
          "metadata": {},
          "execution_count": 26
        }
      ]
    },
    {
      "cell_type": "markdown",
      "source": [
        "#### Gives the element with maximum value from a given list of elements."
      ],
      "metadata": {
        "id": "xOLqgIWknjbG"
      }
    },
    {
      "cell_type": "code",
      "source": [
        "max_element = reduce(lambda x, y: x if x>y else y, a)\n",
        "max_element"
      ],
      "metadata": {
        "colab": {
          "base_uri": "https://localhost:8080/"
        },
        "id": "I_C05i5mnl-f",
        "outputId": "1e2ab85b-433d-4c50-c5ec-04a404710978"
      },
      "execution_count": 27,
      "outputs": [
        {
          "output_type": "execute_result",
          "data": {
            "text/plain": [
              "10"
            ]
          },
          "metadata": {},
          "execution_count": 27
        }
      ]
    },
    {
      "cell_type": "code",
      "source": [
        "a = list(range(1,11))\n",
        "\n",
        "reduce(lambda x, y: x + y, a, 100)#reduce expected at most 3 arguments, got 4"
      ],
      "metadata": {
        "colab": {
          "base_uri": "https://localhost:8080/"
        },
        "id": "s-ABTCEMntuj",
        "outputId": "85b69b30-61b6-48e5-d2ff-e61f744039fd"
      },
      "execution_count": 30,
      "outputs": [
        {
          "output_type": "execute_result",
          "data": {
            "text/plain": [
              "155"
            ]
          },
          "metadata": {},
          "execution_count": 30
        }
      ]
    },
    {
      "cell_type": "markdown",
      "source": [
        "# Full Revise"
      ],
      "metadata": {
        "id": "C744FH6spkSv"
      }
    },
    {
      "cell_type": "code",
      "source": [
        "birds = ['spoonbills',  'plovers',  'plovers',  'plovers',  'plovers',  'Cranes',  'plovers',  'plovers',  'Cranes',  'spoonbills']\n",
        "age = [5.5, 6.0, 3.5, 1.5, 3.0, 4.0, 3.5, 2.0, 5.5, 6.0]\n",
        "list_birds_age=list(zip(birds,age))\n",
        "list_birds_age=list(filter(list_birds_age.sort(key=lambda x:x[1],reverse=False),list_birds_age))\n",
        "list_birds_age_Crane=list(filter(lambda x:x[0]=='Cranes',list_birds_age))\n",
        "result=[]\n",
        "for i in list_birds_age_Crane:\n",
        "  result.append(i[1])\n",
        "result"
      ],
      "metadata": {
        "colab": {
          "base_uri": "https://localhost:8080/"
        },
        "id": "p7NpB08DmdBD",
        "outputId": "06648f28-ecde-4aa2-8178-18d38d9473ea"
      },
      "execution_count": 38,
      "outputs": [
        {
          "output_type": "execute_result",
          "data": {
            "text/plain": [
              "[4.0, 5.5]"
            ]
          },
          "metadata": {},
          "execution_count": 38
        }
      ]
    },
    {
      "cell_type": "code",
      "source": [
        "list1 = [[1,2,3],[4,5,6],[7,8,9]]\n",
        "list2 = [[9,8,7],[6,5,4],[3,2,1]]\n",
        "ls11,ls12,ls13=list1\n",
        "ls21,ls22,ls23=list2"
      ],
      "metadata": {
        "id": "OH9TNl-srPLT"
      },
      "execution_count": 44,
      "outputs": []
    },
    {
      "cell_type": "code",
      "source": [
        "ls21,ls22,ls23"
      ],
      "metadata": {
        "colab": {
          "base_uri": "https://localhost:8080/"
        },
        "id": "AoabD3gwrjCa",
        "outputId": "eb9904c9-0a56-4dc4-aabc-21422371b481"
      },
      "execution_count": 49,
      "outputs": [
        {
          "output_type": "execute_result",
          "data": {
            "text/plain": [
              "([9, 8, 7], [6, 5, 4], [3, 2, 1])"
            ]
          },
          "metadata": {},
          "execution_count": 49
        }
      ]
    },
    {
      "cell_type": "code",
      "source": [
        "print(list(zip(ls11,ls12,ls13,ls21,ls22,ls23)))"
      ],
      "metadata": {
        "colab": {
          "base_uri": "https://localhost:8080/"
        },
        "id": "vFjPy4KwrhjJ",
        "outputId": "a636bea7-4bbf-4ead-e607-9d156c301d13"
      },
      "execution_count": 45,
      "outputs": [
        {
          "output_type": "stream",
          "name": "stdout",
          "text": [
            "[(1, 4, 7, 9, 6, 3), (2, 5, 8, 8, 5, 2), (3, 6, 9, 7, 4, 1)]\n"
          ]
        }
      ]
    },
    {
      "cell_type": "code",
      "source": [
        "a=[1,[2,3],4,5]\n",
        "result = lambda x: list(map(lambda y:2*y, x)) if isinstance(x,list) else lambda x:3*x\n",
        "print(result(a))"
      ],
      "metadata": {
        "colab": {
          "base_uri": "https://localhost:8080/"
        },
        "id": "nHTJ6KYxtdWE",
        "outputId": "1de0c14f-9fe4-4826-9e3d-f1675a45cba6"
      },
      "execution_count": 50,
      "outputs": [
        {
          "output_type": "stream",
          "name": "stdout",
          "text": [
            "[2, [2, 3, 2, 3], 8, 10]\n"
          ]
        }
      ]
    },
    {
      "cell_type": "code",
      "source": [
        "x='cccc b dd aaa'\n",
        "x=x.split()\n",
        "x.sort(key=lambda x:len(x))\n",
        "x"
      ],
      "metadata": {
        "colab": {
          "base_uri": "https://localhost:8080/"
        },
        "id": "EAaj7Sy6uIXR",
        "outputId": "eb6a9614-31f2-4019-d166-b7dd954fa1dc"
      },
      "execution_count": 52,
      "outputs": [
        {
          "output_type": "execute_result",
          "data": {
            "text/plain": [
              "['b', 'dd', 'aaa', 'cccc']"
            ]
          },
          "metadata": {},
          "execution_count": 52
        }
      ]
    }
  ]
}